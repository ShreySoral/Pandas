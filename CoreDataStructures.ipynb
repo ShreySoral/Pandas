{
 "cells": [
  {
   "cell_type": "code",
   "execution_count": 1,
   "id": "51347ca2-73fd-4810-b5d2-4b4a4b30d54c",
   "metadata": {},
   "outputs": [],
   "source": [
    "import pandas as pd"
   ]
  },
  {
   "cell_type": "code",
   "execution_count": 2,
   "id": "cde9cb71-bc86-4709-8f3e-e372c734e139",
   "metadata": {},
   "outputs": [],
   "source": [
    "# Pandas is built on two main data structures:\n",
    "\n",
    "#  Series → One-dimensional (like a single column in Excel)\n",
    "#  DataFrame → Two-dimensional (like a full spreadsheet or SQL table)"
   ]
  },
  {
   "cell_type": "code",
   "execution_count": 3,
   "id": "7f21f153-2ef8-4c97-a697-65e5adbca5cc",
   "metadata": {},
   "outputs": [
    {
     "name": "stdout",
     "output_type": "stream",
     "text": [
      "0    10\n",
      "1    20\n",
      "2    30\n",
      "3    40\n",
      "dtype: int64\n"
     ]
    }
   ],
   "source": [
    "s = pd.Series([10, 20, 30, 40])\n",
    "print(s)"
   ]
  },
  {
   "cell_type": "code",
   "execution_count": 5,
   "id": "f8552c98-22f1-49f5-bb42-903f0b7bee18",
   "metadata": {},
   "outputs": [],
   "source": [
    "# You can also define custom index:\n",
    "s = pd.Series([10, 20, 30], index=[\"a\", \"b\", \"c\"])"
   ]
  },
  {
   "cell_type": "code",
   "execution_count": 6,
   "id": "e6ad0845-60fe-45c9-b63d-6fce06a81924",
   "metadata": {},
   "outputs": [
    {
     "data": {
      "text/plain": [
       "a    10\n",
       "b    20\n",
       "c    30\n",
       "dtype: int64"
      ]
     },
     "execution_count": 6,
     "metadata": {},
     "output_type": "execute_result"
    }
   ],
   "source": [
    "s"
   ]
  },
  {
   "cell_type": "code",
   "execution_count": 7,
   "id": "674d8970-c10e-4762-8714-bcfaa5941d39",
   "metadata": {},
   "outputs": [],
   "source": [
    "# A DataFrame is like a dictionary of Series — multiple columns with labels."
   ]
  },
  {
   "cell_type": "code",
   "execution_count": 8,
   "id": "14302690-b15a-4bdb-80f8-fc91d1e58b5c",
   "metadata": {},
   "outputs": [
    {
     "name": "stdout",
     "output_type": "stream",
     "text": [
      "      name  age       city\n",
      "0    Alice   25      Delhi\n",
      "1      Bob   30     Mumbai\n",
      "2  Charlie   35  Bangalore\n"
     ]
    }
   ],
   "source": [
    "data = {\n",
    "    \"name\": [\"Alice\", \"Bob\", \"Charlie\"],\n",
    "    \"age\": [25, 30, 35],\n",
    "    \"city\": [\"Delhi\", \"Mumbai\", \"Bangalore\"]\n",
    "}\n",
    "\n",
    "df = pd.DataFrame(data)\n",
    "print(df)"
   ]
  },
  {
   "cell_type": "markdown",
   "id": "30e2aa7d-c4c2-4343-a092-071b1bae70b3",
   "metadata": {},
   "source": [
    "## Index and Labels\n",
    "## Every Series and DataFrame has an Index — it helps with:\n",
    "\n",
    "       Fast lookups\n",
    "\n",
    "        Aligning data\n",
    "\n",
    "        Merging & joining\n",
    "\n",
    "\n",
    "        Time series operations"
   ]
  },
  {
   "cell_type": "code",
   "execution_count": 9,
   "id": "1ff0316c-2a1f-4cc0-8c0a-be66142db25c",
   "metadata": {},
   "outputs": [
    {
     "data": {
      "text/plain": [
       "Index(['name', 'age', 'city'], dtype='object')"
      ]
     },
     "execution_count": 9,
     "metadata": {},
     "output_type": "execute_result"
    }
   ],
   "source": [
    "df.index         # Row labels\n",
    "df.columns       # Column labels"
   ]
  },
  {
   "cell_type": "code",
   "execution_count": 10,
   "id": "6f5f68c2-da5f-407a-8d2f-1ed576f2f234",
   "metadata": {},
   "outputs": [],
   "source": [
    "# You can change them using:\n",
    "df.index = [\"a\", \"b\", \"c\"]\n",
    "df.columns = [\"Name\", \"Age\", \"City\"]"
   ]
  },
  {
   "cell_type": "code",
   "execution_count": 11,
   "id": "d6c3bffd-5e1e-4721-82fc-959b4ccb1a83",
   "metadata": {},
   "outputs": [],
   "source": [
    "# Summary\n",
    "# Series = 1D array with labels\n",
    "# DataFrame = 2D table with rows + columns\n",
    "# Both come with index and are the heart of Pandas"
   ]
  },
  {
   "cell_type": "code",
   "execution_count": null,
   "id": "1684cf17-5c0a-4fc0-b735-7845bb0c699e",
   "metadata": {},
   "outputs": [],
   "source": []
  }
 ],
 "metadata": {
  "kernelspec": {
   "display_name": "Python 3 (ipykernel)",
   "language": "python",
   "name": "python3"
  },
  "language_info": {
   "codemirror_mode": {
    "name": "ipython",
    "version": 3
   },
   "file_extension": ".py",
   "mimetype": "text/x-python",
   "name": "python",
   "nbconvert_exporter": "python",
   "pygments_lexer": "ipython3",
   "version": "3.13.2"
  }
 },
 "nbformat": 4,
 "nbformat_minor": 5
}
